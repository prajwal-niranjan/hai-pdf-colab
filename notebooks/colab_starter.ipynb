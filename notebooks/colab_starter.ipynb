{
  "cells": [
    {
      "cell_type": "markdown",
      "metadata": {
        "id": "2oilZ5IrKI8D"
      },
      "source": [
        "# PDF Extraction Starter Notebook\n",
        "\n",
        "This notebook demonstrates a minimal pipeline using `pipeline.py`."
      ]
    },
    {
      "cell_type": "code",
      "source": [
        "!rm -rf hai-pdf-colab\n",
        "!git clone https://github.com/prajwal-niranjan/hai-pdf-colab.git\n",
        "%cd hai-pdf-colab\n"
      ],
      "metadata": {
        "id": "ggbyVYKBLRg9",
        "outputId": "8f8ede42-7a42-4207-8821-4d381d58385b",
        "colab": {
          "base_uri": "https://localhost:8080/"
        }
      },
      "execution_count": 27,
      "outputs": [
        {
          "output_type": "stream",
          "name": "stdout",
          "text": [
            "Cloning into 'hai-pdf-colab'...\n",
            "remote: Enumerating objects: 27, done.\u001b[K\n",
            "remote: Counting objects: 100% (27/27), done.\u001b[K\n",
            "remote: Compressing objects: 100% (18/18), done.\u001b[K\n",
            "remote: Total 27 (delta 5), reused 24 (delta 2), pack-reused 0 (from 0)\u001b[K\n",
            "Receiving objects: 100% (27/27), 7.77 KiB | 7.77 MiB/s, done.\n",
            "Resolving deltas: 100% (5/5), done.\n",
            "/content/hai-pdf-colab/hai-pdf-colab\n"
          ]
        }
      ]
    },
    {
      "cell_type": "code",
      "source": [
        "!pip install -r requirements.txt\n"
      ],
      "metadata": {
        "id": "WSb6Yh-PLhJT",
        "outputId": "7928934f-3889-450b-e320-e00bff501433",
        "colab": {
          "base_uri": "https://localhost:8080/"
        }
      },
      "execution_count": 28,
      "outputs": [
        {
          "output_type": "stream",
          "name": "stdout",
          "text": [
            "Requirement already satisfied: camelot-py==0.11.0 in /usr/local/lib/python3.12/dist-packages (from camelot-py[cv]==0.11.0->-r requirements.txt (line 1)) (0.11.0)\n",
            "Requirement already satisfied: opencv-python==4.10.0.84 in /usr/local/lib/python3.12/dist-packages (from -r requirements.txt (line 2)) (4.10.0.84)\n",
            "Requirement already satisfied: numpy in /usr/local/lib/python3.12/dist-packages (from -r requirements.txt (line 3)) (2.0.2)\n",
            "Requirement already satisfied: pandas in /usr/local/lib/python3.12/dist-packages (from -r requirements.txt (line 4)) (2.2.2)\n",
            "Requirement already satisfied: PyPDF2 in /usr/local/lib/python3.12/dist-packages (from -r requirements.txt (line 5)) (3.0.1)\n",
            "Requirement already satisfied: pdf2image in /usr/local/lib/python3.12/dist-packages (from -r requirements.txt (line 6)) (1.17.0)\n",
            "Requirement already satisfied: matplotlib in /usr/local/lib/python3.12/dist-packages (from -r requirements.txt (line 7)) (3.10.0)\n",
            "Requirement already satisfied: chardet>=3.0.4 in /usr/local/lib/python3.12/dist-packages (from camelot-py==0.11.0->camelot-py[cv]==0.11.0->-r requirements.txt (line 1)) (5.2.0)\n",
            "Requirement already satisfied: click>=6.7 in /usr/local/lib/python3.12/dist-packages (from camelot-py==0.11.0->camelot-py[cv]==0.11.0->-r requirements.txt (line 1)) (8.3.0)\n",
            "Requirement already satisfied: openpyxl>=2.5.8 in /usr/local/lib/python3.12/dist-packages (from camelot-py==0.11.0->camelot-py[cv]==0.11.0->-r requirements.txt (line 1)) (3.1.5)\n",
            "Requirement already satisfied: pdfminer.six>=20200726 in /usr/local/lib/python3.12/dist-packages (from camelot-py==0.11.0->camelot-py[cv]==0.11.0->-r requirements.txt (line 1)) (20250506)\n",
            "Requirement already satisfied: pypdf>=3.0.0 in /usr/local/lib/python3.12/dist-packages (from camelot-py==0.11.0->camelot-py[cv]==0.11.0->-r requirements.txt (line 1)) (6.1.1)\n",
            "Requirement already satisfied: tabulate>=0.8.9 in /usr/local/lib/python3.12/dist-packages (from camelot-py==0.11.0->camelot-py[cv]==0.11.0->-r requirements.txt (line 1)) (0.9.0)\n",
            "Requirement already satisfied: ghostscript>=0.7 in /usr/local/lib/python3.12/dist-packages (from camelot-py[cv]==0.11.0->-r requirements.txt (line 1)) (0.8.1)\n",
            "Requirement already satisfied: pdftopng>=0.2.3 in /usr/local/lib/python3.12/dist-packages (from camelot-py[cv]==0.11.0->-r requirements.txt (line 1)) (0.2.4)\n",
            "Requirement already satisfied: python-dateutil>=2.8.2 in /usr/local/lib/python3.12/dist-packages (from pandas->-r requirements.txt (line 4)) (2.9.0.post0)\n",
            "Requirement already satisfied: pytz>=2020.1 in /usr/local/lib/python3.12/dist-packages (from pandas->-r requirements.txt (line 4)) (2025.2)\n",
            "Requirement already satisfied: tzdata>=2022.7 in /usr/local/lib/python3.12/dist-packages (from pandas->-r requirements.txt (line 4)) (2025.2)\n",
            "Requirement already satisfied: pillow in /usr/local/lib/python3.12/dist-packages (from pdf2image->-r requirements.txt (line 6)) (11.3.0)\n",
            "Requirement already satisfied: contourpy>=1.0.1 in /usr/local/lib/python3.12/dist-packages (from matplotlib->-r requirements.txt (line 7)) (1.3.3)\n",
            "Requirement already satisfied: cycler>=0.10 in /usr/local/lib/python3.12/dist-packages (from matplotlib->-r requirements.txt (line 7)) (0.12.1)\n",
            "Requirement already satisfied: fonttools>=4.22.0 in /usr/local/lib/python3.12/dist-packages (from matplotlib->-r requirements.txt (line 7)) (4.60.1)\n",
            "Requirement already satisfied: kiwisolver>=1.3.1 in /usr/local/lib/python3.12/dist-packages (from matplotlib->-r requirements.txt (line 7)) (1.4.9)\n",
            "Requirement already satisfied: packaging>=20.0 in /usr/local/lib/python3.12/dist-packages (from matplotlib->-r requirements.txt (line 7)) (25.0)\n",
            "Requirement already satisfied: pyparsing>=2.3.1 in /usr/local/lib/python3.12/dist-packages (from matplotlib->-r requirements.txt (line 7)) (3.2.5)\n",
            "Requirement already satisfied: et-xmlfile in /usr/local/lib/python3.12/dist-packages (from openpyxl>=2.5.8->camelot-py==0.11.0->camelot-py[cv]==0.11.0->-r requirements.txt (line 1)) (2.0.0)\n",
            "Requirement already satisfied: charset-normalizer>=2.0.0 in /usr/local/lib/python3.12/dist-packages (from pdfminer.six>=20200726->camelot-py==0.11.0->camelot-py[cv]==0.11.0->-r requirements.txt (line 1)) (3.4.3)\n",
            "Requirement already satisfied: cryptography>=36.0.0 in /usr/local/lib/python3.12/dist-packages (from pdfminer.six>=20200726->camelot-py==0.11.0->camelot-py[cv]==0.11.0->-r requirements.txt (line 1)) (43.0.3)\n",
            "Requirement already satisfied: six>=1.5 in /usr/local/lib/python3.12/dist-packages (from python-dateutil>=2.8.2->pandas->-r requirements.txt (line 4)) (1.17.0)\n",
            "Requirement already satisfied: cffi>=1.12 in /usr/local/lib/python3.12/dist-packages (from cryptography>=36.0.0->pdfminer.six>=20200726->camelot-py==0.11.0->camelot-py[cv]==0.11.0->-r requirements.txt (line 1)) (2.0.0)\n",
            "Requirement already satisfied: pycparser in /usr/local/lib/python3.12/dist-packages (from cffi>=1.12->cryptography>=36.0.0->pdfminer.six>=20200726->camelot-py==0.11.0->camelot-py[cv]==0.11.0->-r requirements.txt (line 1)) (2.23)\n"
          ]
        }
      ]
    },
    {
      "cell_type": "code",
      "source": [
        "!ls\n",
        "\n"
      ],
      "metadata": {
        "id": "Vcg1tEw_LmfJ",
        "outputId": "3e027fcd-3f00-4d78-b7d7-4b8b05898391",
        "colab": {
          "base_uri": "https://localhost:8080/"
        }
      },
      "execution_count": 29,
      "outputs": [
        {
          "output_type": "stream",
          "name": "stdout",
          "text": [
            "commits-guide.md  notebooks  README.md\trequirements.txt  src\n"
          ]
        }
      ]
    },
    {
      "cell_type": "code",
      "source": [
        "!pip install pdfplumber pymupdf camelot-py pandas\n"
      ],
      "metadata": {
        "id": "W7H_pHqrOCPc",
        "outputId": "41536690-8692-4ed1-8adc-18a2b92b4c89",
        "colab": {
          "base_uri": "https://localhost:8080/"
        }
      },
      "execution_count": 35,
      "outputs": [
        {
          "output_type": "stream",
          "name": "stdout",
          "text": [
            "Collecting pdfplumber\n",
            "  Downloading pdfplumber-0.11.7-py3-none-any.whl.metadata (42 kB)\n",
            "\u001b[?25l     \u001b[90m━━━━━━━━━━━━━━━━━━━━━━━━━━━━━━━━━━━━━━━━\u001b[0m \u001b[32m0.0/42.8 kB\u001b[0m \u001b[31m?\u001b[0m eta \u001b[36m-:--:--\u001b[0m\r\u001b[2K     \u001b[90m━━━━━━━━━━━━━━━━━━━━━━━━━━━━━━━━━━━━━━━━\u001b[0m \u001b[32m42.8/42.8 kB\u001b[0m \u001b[31m2.8 MB/s\u001b[0m eta \u001b[36m0:00:00\u001b[0m\n",
            "\u001b[?25hCollecting pymupdf\n",
            "  Downloading pymupdf-1.26.4-cp39-abi3-manylinux_2_28_x86_64.whl.metadata (3.4 kB)\n",
            "Requirement already satisfied: camelot-py in /usr/local/lib/python3.12/dist-packages (0.11.0)\n",
            "Requirement already satisfied: pandas in /usr/local/lib/python3.12/dist-packages (2.2.2)\n",
            "Requirement already satisfied: pdfminer.six==20250506 in /usr/local/lib/python3.12/dist-packages (from pdfplumber) (20250506)\n",
            "Requirement already satisfied: Pillow>=9.1 in /usr/local/lib/python3.12/dist-packages (from pdfplumber) (11.3.0)\n",
            "Collecting pypdfium2>=4.18.0 (from pdfplumber)\n",
            "  Downloading pypdfium2-4.30.0-py3-none-manylinux_2_17_x86_64.manylinux2014_x86_64.whl.metadata (48 kB)\n",
            "\u001b[2K     \u001b[90m━━━━━━━━━━━━━━━━━━━━━━━━━━━━━━━━━━━━━━━━\u001b[0m \u001b[32m48.5/48.5 kB\u001b[0m \u001b[31m4.3 MB/s\u001b[0m eta \u001b[36m0:00:00\u001b[0m\n",
            "\u001b[?25hRequirement already satisfied: charset-normalizer>=2.0.0 in /usr/local/lib/python3.12/dist-packages (from pdfminer.six==20250506->pdfplumber) (3.4.3)\n",
            "Requirement already satisfied: cryptography>=36.0.0 in /usr/local/lib/python3.12/dist-packages (from pdfminer.six==20250506->pdfplumber) (43.0.3)\n",
            "Requirement already satisfied: chardet>=3.0.4 in /usr/local/lib/python3.12/dist-packages (from camelot-py) (5.2.0)\n",
            "Requirement already satisfied: click>=6.7 in /usr/local/lib/python3.12/dist-packages (from camelot-py) (8.3.0)\n",
            "Requirement already satisfied: numpy>=1.13.3 in /usr/local/lib/python3.12/dist-packages (from camelot-py) (2.0.2)\n",
            "Requirement already satisfied: openpyxl>=2.5.8 in /usr/local/lib/python3.12/dist-packages (from camelot-py) (3.1.5)\n",
            "Requirement already satisfied: pypdf>=3.0.0 in /usr/local/lib/python3.12/dist-packages (from camelot-py) (6.1.1)\n",
            "Requirement already satisfied: tabulate>=0.8.9 in /usr/local/lib/python3.12/dist-packages (from camelot-py) (0.9.0)\n",
            "Requirement already satisfied: python-dateutil>=2.8.2 in /usr/local/lib/python3.12/dist-packages (from pandas) (2.9.0.post0)\n",
            "Requirement already satisfied: pytz>=2020.1 in /usr/local/lib/python3.12/dist-packages (from pandas) (2025.2)\n",
            "Requirement already satisfied: tzdata>=2022.7 in /usr/local/lib/python3.12/dist-packages (from pandas) (2025.2)\n",
            "Requirement already satisfied: et-xmlfile in /usr/local/lib/python3.12/dist-packages (from openpyxl>=2.5.8->camelot-py) (2.0.0)\n",
            "Requirement already satisfied: six>=1.5 in /usr/local/lib/python3.12/dist-packages (from python-dateutil>=2.8.2->pandas) (1.17.0)\n",
            "Requirement already satisfied: cffi>=1.12 in /usr/local/lib/python3.12/dist-packages (from cryptography>=36.0.0->pdfminer.six==20250506->pdfplumber) (2.0.0)\n",
            "Requirement already satisfied: pycparser in /usr/local/lib/python3.12/dist-packages (from cffi>=1.12->cryptography>=36.0.0->pdfminer.six==20250506->pdfplumber) (2.23)\n",
            "Downloading pdfplumber-0.11.7-py3-none-any.whl (60 kB)\n",
            "\u001b[2K   \u001b[90m━━━━━━━━━━━━━━━━━━━━━━━━━━━━━━━━━━━━━━━━\u001b[0m \u001b[32m60.0/60.0 kB\u001b[0m \u001b[31m5.6 MB/s\u001b[0m eta \u001b[36m0:00:00\u001b[0m\n",
            "\u001b[?25hDownloading pymupdf-1.26.4-cp39-abi3-manylinux_2_28_x86_64.whl (24.1 MB)\n",
            "\u001b[2K   \u001b[90m━━━━━━━━━━━━━━━━━━━━━━━━━━━━━━━━━━━━━━━━\u001b[0m \u001b[32m24.1/24.1 MB\u001b[0m \u001b[31m41.4 MB/s\u001b[0m eta \u001b[36m0:00:00\u001b[0m\n",
            "\u001b[?25hDownloading pypdfium2-4.30.0-py3-none-manylinux_2_17_x86_64.manylinux2014_x86_64.whl (2.8 MB)\n",
            "\u001b[2K   \u001b[90m━━━━━━━━━━━━━━━━━━━━━━━━━━━━━━━━━━━━━━━━\u001b[0m \u001b[32m2.8/2.8 MB\u001b[0m \u001b[31m77.7 MB/s\u001b[0m eta \u001b[36m0:00:00\u001b[0m\n",
            "\u001b[?25hInstalling collected packages: pypdfium2, pymupdf, pdfplumber\n",
            "Successfully installed pdfplumber-0.11.7 pymupdf-1.26.4 pypdfium2-4.30.0\n"
          ]
        }
      ]
    },
    {
      "cell_type": "code",
      "source": [
        "from google.colab import files\n",
        "uploaded = files.upload()\n"
      ],
      "metadata": {
        "id": "mr5pXymZOhwP",
        "outputId": "81e6ceef-22eb-471f-9387-c7e1729a29e1",
        "colab": {
          "base_uri": "https://localhost:8080/",
          "height": 177
        }
      },
      "execution_count": 38,
      "outputs": [
        {
          "output_type": "display_data",
          "data": {
            "text/plain": [
              "<IPython.core.display.HTML object>"
            ],
            "text/html": [
              "\n",
              "     <input type=\"file\" id=\"files-08062fc5-def9-4b78-94d0-e6850fc259b7\" name=\"files[]\" multiple disabled\n",
              "        style=\"border:none\" />\n",
              "     <output id=\"result-08062fc5-def9-4b78-94d0-e6850fc259b7\">\n",
              "      Upload widget is only available when the cell has been executed in the\n",
              "      current browser session. Please rerun this cell to enable.\n",
              "      </output>\n",
              "      <script>// Copyright 2017 Google LLC\n",
              "//\n",
              "// Licensed under the Apache License, Version 2.0 (the \"License\");\n",
              "// you may not use this file except in compliance with the License.\n",
              "// You may obtain a copy of the License at\n",
              "//\n",
              "//      http://www.apache.org/licenses/LICENSE-2.0\n",
              "//\n",
              "// Unless required by applicable law or agreed to in writing, software\n",
              "// distributed under the License is distributed on an \"AS IS\" BASIS,\n",
              "// WITHOUT WARRANTIES OR CONDITIONS OF ANY KIND, either express or implied.\n",
              "// See the License for the specific language governing permissions and\n",
              "// limitations under the License.\n",
              "\n",
              "/**\n",
              " * @fileoverview Helpers for google.colab Python module.\n",
              " */\n",
              "(function(scope) {\n",
              "function span(text, styleAttributes = {}) {\n",
              "  const element = document.createElement('span');\n",
              "  element.textContent = text;\n",
              "  for (const key of Object.keys(styleAttributes)) {\n",
              "    element.style[key] = styleAttributes[key];\n",
              "  }\n",
              "  return element;\n",
              "}\n",
              "\n",
              "// Max number of bytes which will be uploaded at a time.\n",
              "const MAX_PAYLOAD_SIZE = 100 * 1024;\n",
              "\n",
              "function _uploadFiles(inputId, outputId) {\n",
              "  const steps = uploadFilesStep(inputId, outputId);\n",
              "  const outputElement = document.getElementById(outputId);\n",
              "  // Cache steps on the outputElement to make it available for the next call\n",
              "  // to uploadFilesContinue from Python.\n",
              "  outputElement.steps = steps;\n",
              "\n",
              "  return _uploadFilesContinue(outputId);\n",
              "}\n",
              "\n",
              "// This is roughly an async generator (not supported in the browser yet),\n",
              "// where there are multiple asynchronous steps and the Python side is going\n",
              "// to poll for completion of each step.\n",
              "// This uses a Promise to block the python side on completion of each step,\n",
              "// then passes the result of the previous step as the input to the next step.\n",
              "function _uploadFilesContinue(outputId) {\n",
              "  const outputElement = document.getElementById(outputId);\n",
              "  const steps = outputElement.steps;\n",
              "\n",
              "  const next = steps.next(outputElement.lastPromiseValue);\n",
              "  return Promise.resolve(next.value.promise).then((value) => {\n",
              "    // Cache the last promise value to make it available to the next\n",
              "    // step of the generator.\n",
              "    outputElement.lastPromiseValue = value;\n",
              "    return next.value.response;\n",
              "  });\n",
              "}\n",
              "\n",
              "/**\n",
              " * Generator function which is called between each async step of the upload\n",
              " * process.\n",
              " * @param {string} inputId Element ID of the input file picker element.\n",
              " * @param {string} outputId Element ID of the output display.\n",
              " * @return {!Iterable<!Object>} Iterable of next steps.\n",
              " */\n",
              "function* uploadFilesStep(inputId, outputId) {\n",
              "  const inputElement = document.getElementById(inputId);\n",
              "  inputElement.disabled = false;\n",
              "\n",
              "  const outputElement = document.getElementById(outputId);\n",
              "  outputElement.innerHTML = '';\n",
              "\n",
              "  const pickedPromise = new Promise((resolve) => {\n",
              "    inputElement.addEventListener('change', (e) => {\n",
              "      resolve(e.target.files);\n",
              "    });\n",
              "  });\n",
              "\n",
              "  const cancel = document.createElement('button');\n",
              "  inputElement.parentElement.appendChild(cancel);\n",
              "  cancel.textContent = 'Cancel upload';\n",
              "  const cancelPromise = new Promise((resolve) => {\n",
              "    cancel.onclick = () => {\n",
              "      resolve(null);\n",
              "    };\n",
              "  });\n",
              "\n",
              "  // Wait for the user to pick the files.\n",
              "  const files = yield {\n",
              "    promise: Promise.race([pickedPromise, cancelPromise]),\n",
              "    response: {\n",
              "      action: 'starting',\n",
              "    }\n",
              "  };\n",
              "\n",
              "  cancel.remove();\n",
              "\n",
              "  // Disable the input element since further picks are not allowed.\n",
              "  inputElement.disabled = true;\n",
              "\n",
              "  if (!files) {\n",
              "    return {\n",
              "      response: {\n",
              "        action: 'complete',\n",
              "      }\n",
              "    };\n",
              "  }\n",
              "\n",
              "  for (const file of files) {\n",
              "    const li = document.createElement('li');\n",
              "    li.append(span(file.name, {fontWeight: 'bold'}));\n",
              "    li.append(span(\n",
              "        `(${file.type || 'n/a'}) - ${file.size} bytes, ` +\n",
              "        `last modified: ${\n",
              "            file.lastModifiedDate ? file.lastModifiedDate.toLocaleDateString() :\n",
              "                                    'n/a'} - `));\n",
              "    const percent = span('0% done');\n",
              "    li.appendChild(percent);\n",
              "\n",
              "    outputElement.appendChild(li);\n",
              "\n",
              "    const fileDataPromise = new Promise((resolve) => {\n",
              "      const reader = new FileReader();\n",
              "      reader.onload = (e) => {\n",
              "        resolve(e.target.result);\n",
              "      };\n",
              "      reader.readAsArrayBuffer(file);\n",
              "    });\n",
              "    // Wait for the data to be ready.\n",
              "    let fileData = yield {\n",
              "      promise: fileDataPromise,\n",
              "      response: {\n",
              "        action: 'continue',\n",
              "      }\n",
              "    };\n",
              "\n",
              "    // Use a chunked sending to avoid message size limits. See b/62115660.\n",
              "    let position = 0;\n",
              "    do {\n",
              "      const length = Math.min(fileData.byteLength - position, MAX_PAYLOAD_SIZE);\n",
              "      const chunk = new Uint8Array(fileData, position, length);\n",
              "      position += length;\n",
              "\n",
              "      const base64 = btoa(String.fromCharCode.apply(null, chunk));\n",
              "      yield {\n",
              "        response: {\n",
              "          action: 'append',\n",
              "          file: file.name,\n",
              "          data: base64,\n",
              "        },\n",
              "      };\n",
              "\n",
              "      let percentDone = fileData.byteLength === 0 ?\n",
              "          100 :\n",
              "          Math.round((position / fileData.byteLength) * 100);\n",
              "      percent.textContent = `${percentDone}% done`;\n",
              "\n",
              "    } while (position < fileData.byteLength);\n",
              "  }\n",
              "\n",
              "  // All done.\n",
              "  yield {\n",
              "    response: {\n",
              "      action: 'complete',\n",
              "    }\n",
              "  };\n",
              "}\n",
              "\n",
              "scope.google = scope.google || {};\n",
              "scope.google.colab = scope.google.colab || {};\n",
              "scope.google.colab._files = {\n",
              "  _uploadFiles,\n",
              "  _uploadFilesContinue,\n",
              "};\n",
              "})(self);\n",
              "</script> "
            ]
          },
          "metadata": {}
        },
        {
          "output_type": "stream",
          "name": "stdout",
          "text": [
            "Saving sample-tables.pdf to sample-tables.pdf\n",
            "Saving 21583473018.pdf to 21583473018.pdf\n",
            "Saving invoicesample.pdf to invoicesample.pdf\n",
            "Saving file-example_PDF_1MB.pdf to file-example_PDF_1MB.pdf\n"
          ]
        }
      ]
    },
    {
      "cell_type": "code",
      "source": [
        "import os\n",
        "print(os.listdir(\"/content\"))\n"
      ],
      "metadata": {
        "id": "ihDGaCeTPRKQ",
        "outputId": "44756984-3673-4efe-e30e-90af415be57c",
        "colab": {
          "base_uri": "https://localhost:8080/"
        }
      },
      "execution_count": 39,
      "outputs": [
        {
          "output_type": "stream",
          "name": "stdout",
          "text": [
            "['.config', 'hai-pdf-colab', 'sample_data']\n"
          ]
        }
      ]
    },
    {
      "cell_type": "code",
      "source": [
        "!apt-get install -y ghostscript\n"
      ],
      "metadata": {
        "id": "XrJKHy1QQPmT",
        "outputId": "c12a634f-a5a5-4369-8d6e-addda4726314",
        "colab": {
          "base_uri": "https://localhost:8080/"
        }
      },
      "execution_count": 41,
      "outputs": [
        {
          "output_type": "stream",
          "name": "stdout",
          "text": [
            "Reading package lists... Done\n",
            "Building dependency tree... Done\n",
            "Reading state information... Done\n",
            "The following additional packages will be installed:\n",
            "  fonts-droid-fallback fonts-noto-mono fonts-urw-base35 libgs9 libgs9-common\n",
            "  libidn12 libijs-0.35 libjbig2dec0 poppler-data\n",
            "Suggested packages:\n",
            "  fonts-noto fonts-freefont-otf | fonts-freefont-ttf fonts-texgyre\n",
            "  ghostscript-x poppler-utils fonts-japanese-mincho | fonts-ipafont-mincho\n",
            "  fonts-japanese-gothic | fonts-ipafont-gothic fonts-arphic-ukai\n",
            "  fonts-arphic-uming fonts-nanum\n",
            "The following NEW packages will be installed:\n",
            "  fonts-droid-fallback fonts-noto-mono fonts-urw-base35 ghostscript libgs9\n",
            "  libgs9-common libidn12 libijs-0.35 libjbig2dec0 poppler-data\n",
            "0 upgraded, 10 newly installed, 0 to remove and 38 not upgraded.\n",
            "Need to get 16.7 MB of archives.\n",
            "After this operation, 63.0 MB of additional disk space will be used.\n",
            "Get:1 http://archive.ubuntu.com/ubuntu jammy/main amd64 fonts-droid-fallback all 1:6.0.1r16-1.1build1 [1,805 kB]\n",
            "Get:2 http://archive.ubuntu.com/ubuntu jammy/main amd64 poppler-data all 0.4.11-1 [2,171 kB]\n",
            "Get:3 http://archive.ubuntu.com/ubuntu jammy/main amd64 fonts-noto-mono all 20201225-1build1 [397 kB]\n",
            "Get:4 http://archive.ubuntu.com/ubuntu jammy/main amd64 fonts-urw-base35 all 20200910-1 [6,367 kB]\n",
            "Get:5 http://archive.ubuntu.com/ubuntu jammy-updates/main amd64 libgs9-common all 9.55.0~dfsg1-0ubuntu5.13 [753 kB]\n",
            "Get:6 http://archive.ubuntu.com/ubuntu jammy-updates/main amd64 libidn12 amd64 1.38-4ubuntu1 [60.0 kB]\n",
            "Get:7 http://archive.ubuntu.com/ubuntu jammy/main amd64 libijs-0.35 amd64 0.35-15build2 [16.5 kB]\n",
            "Get:8 http://archive.ubuntu.com/ubuntu jammy/main amd64 libjbig2dec0 amd64 0.19-3build2 [64.7 kB]\n",
            "Get:9 http://archive.ubuntu.com/ubuntu jammy-updates/main amd64 libgs9 amd64 9.55.0~dfsg1-0ubuntu5.13 [5,032 kB]\n",
            "Get:10 http://archive.ubuntu.com/ubuntu jammy-updates/main amd64 ghostscript amd64 9.55.0~dfsg1-0ubuntu5.13 [49.4 kB]\n",
            "Fetched 16.7 MB in 3s (5,772 kB/s)\n",
            "Selecting previously unselected package fonts-droid-fallback.\n",
            "(Reading database ... 126675 files and directories currently installed.)\n",
            "Preparing to unpack .../0-fonts-droid-fallback_1%3a6.0.1r16-1.1build1_all.deb ...\n",
            "Unpacking fonts-droid-fallback (1:6.0.1r16-1.1build1) ...\n",
            "Selecting previously unselected package poppler-data.\n",
            "Preparing to unpack .../1-poppler-data_0.4.11-1_all.deb ...\n",
            "Unpacking poppler-data (0.4.11-1) ...\n",
            "Selecting previously unselected package fonts-noto-mono.\n",
            "Preparing to unpack .../2-fonts-noto-mono_20201225-1build1_all.deb ...\n",
            "Unpacking fonts-noto-mono (20201225-1build1) ...\n",
            "Selecting previously unselected package fonts-urw-base35.\n",
            "Preparing to unpack .../3-fonts-urw-base35_20200910-1_all.deb ...\n",
            "Unpacking fonts-urw-base35 (20200910-1) ...\n",
            "Selecting previously unselected package libgs9-common.\n",
            "Preparing to unpack .../4-libgs9-common_9.55.0~dfsg1-0ubuntu5.13_all.deb ...\n",
            "Unpacking libgs9-common (9.55.0~dfsg1-0ubuntu5.13) ...\n",
            "Selecting previously unselected package libidn12:amd64.\n",
            "Preparing to unpack .../5-libidn12_1.38-4ubuntu1_amd64.deb ...\n",
            "Unpacking libidn12:amd64 (1.38-4ubuntu1) ...\n",
            "Selecting previously unselected package libijs-0.35:amd64.\n",
            "Preparing to unpack .../6-libijs-0.35_0.35-15build2_amd64.deb ...\n",
            "Unpacking libijs-0.35:amd64 (0.35-15build2) ...\n",
            "Selecting previously unselected package libjbig2dec0:amd64.\n",
            "Preparing to unpack .../7-libjbig2dec0_0.19-3build2_amd64.deb ...\n",
            "Unpacking libjbig2dec0:amd64 (0.19-3build2) ...\n",
            "Selecting previously unselected package libgs9:amd64.\n",
            "Preparing to unpack .../8-libgs9_9.55.0~dfsg1-0ubuntu5.13_amd64.deb ...\n",
            "Unpacking libgs9:amd64 (9.55.0~dfsg1-0ubuntu5.13) ...\n",
            "Selecting previously unselected package ghostscript.\n",
            "Preparing to unpack .../9-ghostscript_9.55.0~dfsg1-0ubuntu5.13_amd64.deb ...\n",
            "Unpacking ghostscript (9.55.0~dfsg1-0ubuntu5.13) ...\n",
            "Setting up fonts-noto-mono (20201225-1build1) ...\n",
            "Setting up libijs-0.35:amd64 (0.35-15build2) ...\n",
            "Setting up fonts-urw-base35 (20200910-1) ...\n",
            "Setting up poppler-data (0.4.11-1) ...\n",
            "Setting up libjbig2dec0:amd64 (0.19-3build2) ...\n",
            "Setting up libidn12:amd64 (1.38-4ubuntu1) ...\n",
            "Setting up fonts-droid-fallback (1:6.0.1r16-1.1build1) ...\n",
            "Setting up libgs9-common (9.55.0~dfsg1-0ubuntu5.13) ...\n",
            "Setting up libgs9:amd64 (9.55.0~dfsg1-0ubuntu5.13) ...\n",
            "Setting up ghostscript (9.55.0~dfsg1-0ubuntu5.13) ...\n",
            "Processing triggers for fontconfig (2.13.1-4.2ubuntu5) ...\n",
            "Processing triggers for libc-bin (2.35-0ubuntu3.8) ...\n",
            "/sbin/ldconfig.real: /usr/local/lib/libumf.so.0 is not a symbolic link\n",
            "\n",
            "/sbin/ldconfig.real: /usr/local/lib/libtbbmalloc.so.2 is not a symbolic link\n",
            "\n",
            "/sbin/ldconfig.real: /usr/local/lib/libtbbbind.so.3 is not a symbolic link\n",
            "\n",
            "/sbin/ldconfig.real: /usr/local/lib/libur_loader.so.0 is not a symbolic link\n",
            "\n",
            "/sbin/ldconfig.real: /usr/local/lib/libur_adapter_level_zero.so.0 is not a symbolic link\n",
            "\n",
            "/sbin/ldconfig.real: /usr/local/lib/libtbbbind_2_5.so.3 is not a symbolic link\n",
            "\n",
            "/sbin/ldconfig.real: /usr/local/lib/libtcm_debug.so.1 is not a symbolic link\n",
            "\n",
            "/sbin/ldconfig.real: /usr/local/lib/libur_adapter_level_zero_v2.so.0 is not a symbolic link\n",
            "\n",
            "/sbin/ldconfig.real: /usr/local/lib/libtbb.so.12 is not a symbolic link\n",
            "\n",
            "/sbin/ldconfig.real: /usr/local/lib/libtbbmalloc_proxy.so.2 is not a symbolic link\n",
            "\n",
            "/sbin/ldconfig.real: /usr/local/lib/libtbbbind_2_0.so.3 is not a symbolic link\n",
            "\n",
            "/sbin/ldconfig.real: /usr/local/lib/libhwloc.so.15 is not a symbolic link\n",
            "\n",
            "/sbin/ldconfig.real: /usr/local/lib/libur_adapter_opencl.so.0 is not a symbolic link\n",
            "\n",
            "/sbin/ldconfig.real: /usr/local/lib/libtcm.so.1 is not a symbolic link\n",
            "\n",
            "Processing triggers for man-db (2.10.2-1) ...\n"
          ]
        }
      ]
    },
    {
      "cell_type": "code",
      "source": [
        "from python import pipeline\n",
        "\n",
        "result = pipeline.pipeline(\"sample-tables.pdf\")\n",
        "print(result)\n"
      ],
      "metadata": {
        "id": "LBDGEpZsQYnO",
        "outputId": "6735082a-f17b-4357-9d08-d411bc177a66",
        "colab": {
          "base_uri": "https://localhost:8080/"
        }
      },
      "execution_count": 42,
      "outputs": [
        {
          "output_type": "stream",
          "name": "stdout",
          "text": [
            "{'pdf': 'sample-tables.pdf', 'text': {1: 'Design and build\\naccessible PDF tables\\nSample tables\\nTable 1\\nColumn header (TH) Column header (TH) Column header (TH)\\nRow header (TH) Data cell (TD) Data cell (TD)\\nRow header(TH) Data cell (TD) Data cell (TD)\\nTable 2: example of footnotes referenced from within a table\\nExpenditure by function £ million 2009/10 2010/11 1\\nPolicy functions Financial 22.5 30.57\\nInformation 2 10.2 14.8\\nContingency 2.6 1.2\\nRemunerated functions Agency services 3 44.7 35.91\\nPayments 22.41 19.88\\nBanking 22.90 44.23\\nOther 12.69 10.32\\n(1) Provisional total as of publication date.\\n(2) Costs associated with on-going information programmes.\\n(3) From the management accounts, net of recoveries, including interest charges.\\nTable 3: \"film credits\" style layout\\nMain character Daniel Radcliffe\\nSidekick 1 Rupert Grint\\nSidekick 2 Emma Watson\\nLovable ogre Robbie Coltrane\\nProfessor Maggie Smith\\nHeadmaster Richard Harris', 2: 'Table 4: table 3 with column headers added\\nRole Actor\\nMain character Daniel Radcliffe\\nSidekick 1 Rupert Grint\\nSidekick 2 Emma Watson\\nLovable ogre Robbie Coltrane\\nProfessor Maggie Smith\\nHeadmaster Richard Harris\\nTable 5: year-end financial statement (£, thousands)\\n2010 2009 2008\\nNon-current assets\\nProperty 345 445 222\\nInvestment 567 654 423\\nIntangibles 423 123 453\\nCurrent assets\\nTrade and other receivables 435 634 231\\nCash and cash equivalents 524 123 482\\nOther 223 211 254\\nTable 6: a table with a more serious headings problem\\nRainfall Americas Asia Europe Africa\\n(inches)\\n2010\\nAverage 104 201 193 144\\n24 hour high 15 26 27 18\\n12 hour high 9 10 11 12\\n2009\\nAverage 133 244 155 166\\n24 hour high 27 28 29 20\\n12 hour high 11 12 13 16', 3: 'Table 7: year-end statement, non-current assets (£, thousands)\\nNon-current assets 2010 2009 2008\\nProperty 345 445 222\\nInvestment 567 654 423\\nIntangibles 423 123 453\\nTable 8: year-end statement, current assets (£, thousands)\\nCurrent assets 2010 2009 2008\\nTrade and other receivables 435 634 231\\nCash and cash equivalents 524 123 482\\nOther 223 211 254\\nTable 9: rainfall by continent, 2009\\nRainfall (inches) Americas Asia Europe Africa\\nAverage 133 244 155 166\\n24 hour high 27 28 29 20\\n12 hour high 11 12 13 16', 4: 'Table 10: self-contained year-end statement (£, thousands) (multiple\\nlayout problems)\\n2011 2010 restated\\nGeneral income 250,000 200,000\\nIncrease in value, WIP 15,000 30,000\\n265,000 230,000\\nAdministrative costs\\nStaff costs (200,000) (150,000)\\nEarly departures (10,000) (20,000)\\nOther (25,000) (10,000)\\nDepreciation (10,000) (10,000)\\nProgr amme costs\\nImpairment loss (10,000) (5,000)\\nOther (5,000) (5,000)\\n(260,000) (200,000)\\nSurplus 5,000 30,000\\nTable 11: self-contained year-end statement (£, thousands) (multiple\\nproblems resolved)\\n2011 2010 restated\\nIncome General income 250,000 200,000\\nIncrease in value 15,000 30,000\\nTotal income 265,000 230,000\\nAdministrative costs Staff costs (200,000) (150,000)\\nEarly departures (10,000) (20,000)\\nOther operating costs (25,000) (10,000)\\nDepreciation (10,000) (10,000)\\nProgramme costs Impairment loss (10,000) (5,000)\\nOther (5,000) (5,000)\\nTotal costs (260,000) (200,000)\\nSurplus 5,000 30,000', 5: 'Table 12: merged data cells are not recommended\\n2008 2009\\nName Yes No Yes No\\nBob 2 5 6 7\\nSue 3 8 4 7\\nSam\\n[data relating to both columns in [data relating to both columns in\\na single cell spanning both] a single cell spanning both]\\nTable 13: use of graphic symbols\\nQuestion Respondent A Respondent B Respondent C\\nAre you a UK citizen?\\n\\uf0fd \\uf0fc \\uf0fd\\nAre you currently employed? \\uf0fc \\uf0fd \\uf0fc\\nDo you have a driving licence? \\uf0fd \\uf0fd \\uf0fc\\nTable 14: symbols replaced by real text\\nQuestion Respondent A Respondent B Respondent C\\nAre you a UK citizen? No Yes No\\nAre you currently employed? Yes No Yes\\nDo you have a driving licence? No No Yes\\nTable 15: courses offered by Institution X. A = Bachelor of Science,\\nB = Bachelor of Arts, C = Masters, D = Doctorate, E = Diploma\\n2006 2007 2008 2009\\nEconomics A, B A, C A, B A, C\\nInternational relations A, E A, E A, B A, E\\nPhilosophy A A A A, D\\nPolitics A, D A, D A, D A\\nMathematics B, C B A, E A, B\\nEnglish A, C A, B A,B C', 6: 'Table 16: Masters courses offered by Institution X\\n2006 2007 2008 2009\\nEconomics No Yes Yes Yes\\nInternational relations No No No No\\nPhilosophy No No No No\\nPolitics No No No No\\nMathematics Yes No No No\\nEnglish Yes Yes Yes Yes\\nTable 17: accounts, 2011 (£, thousands)\\nAccounting item 2011\\nIncome General income 200,000\\nIncrease in value, WIP 30,000\\nIncome subtotal 230,000\\nAdministrative costs Staff 150,000\\nEarly departures 20,000\\nOther operating costs 10,000\\nDepreciation 10,000\\nProgramme costs Impairment loss 10,000\\nCosts subtotal 200,000\\nBalance 30,000\\nTable 18: accounts, 2011 (£, thousands)\\nAccounting item 2011\\nIncome General income 200,000\\nIncrease in value, WIP 30,000\\nIncome subtotal 230,000\\nAdministrative costs Staff (150,000)\\nEarly departures (20,000)\\nOther operating costs (10,000)\\nDepreciation (10,000)\\nProgramme costs Impairment loss (10,000)\\nCosts subtotal (200,000)\\nBalance 30,000', 7: 'Table 19: Human Development Index (HDI)\\ntrends, 1980 to 2010. Source: Barro-Lee March, 2010\\nCountry 1980 1990 2000 2010\\nAfghanistan 0.78 1.48 2.16 3.33\\nAlbania 8.89 9.67 9.89 10.38\\nAlgeria 4.74 3.33 5.50 7.24\\nAndorra 4.98 5.63 9.09 10.35\\nAngola - - 4.42 4.42\\nTable 20: footnotes referenced from within a table\\nExpenditure by function £million 2009/10 2010/111\\nPolicy functions Financial 22.5 30.57\\nInformation2 10.2 14.8\\nContingency 2.6 1.2\\nRemunerated functions Agency services 3 44.7 35.91\\nPayments 22.41 19.88\\nBanking 22.90 44.23\\nOther 12.69 10.32\\n(1) Provisional total as of publication date.\\n(2) Costs associated with on-going information programmes.\\n(3) From the management accounts, net of recoveries and including interest charges', 8: 'Table 21: footnotes replaced by additional table summary text\\nExpenditure by function £million 2009/10 2010/11\\nPolicy functions Financial 22.5 30.57\\nInformation 10.2 14.8\\nContingency 2.6 1.2\\nRemunerated functions Agency services 44.7 35.91\\nPayments 22.41 19.88\\nBanking 22.90 44.23\\nOther 12.69 10.32\\nTable 22: referencing multiple endnotes from within a table\\nExpenditure £m Notes 2010 2011\\n(Notes located on page [n])\\nInformation 1 10.2 14.8\\nContingency 2.6 1.2\\nPayments 3 22.41 19.88\\nBanking services 4 22.90 44.23\\nInterest 0.23 0.10\\nDividends 23 2.5 3.68\\nOther 9 12.69 10.32\\nTable 23: simulated table created using tabs and containing no\\nstructure\\n2008 2009\\nName Entered Completed Entered Completed\\nBob 22 21 20 19\\nSue 44 12 12 10', 9: 'Table 24: year-end financial statement (£, thousands)\\n2010 2009 2008\\nNon-current assets\\nBuildings 345 445 222\\nInvestment 567 654 423\\nIntangibles 423 123 453\\nCurrent assets\\nTrade 435 634 231\\nCash 524 123 482\\nOther 223 211 254\\nCurrent liabilities\\nTrade liabilities 154 125 421\\nFinancial debt 231 474 572\\nProvisions 111 312 347\\nTable 25: setting column and row scope via the tags panel\\n2008 2009\\nName Entered Won Entered Won\\nBob 22 21 20 19\\nSue 44 12 12 10\\nSam 16 4 45 30\\nTable 26: courses offered by Institution X. A = Bachelor of Science,\\nB = Bachelor of Arts, C = Masters, D = Doctorate, E = Diploma\\n2006 2007 2008 2009\\nEconomics A, B A, C A, C A, C\\nInternational relations A, E A, E A, B A, B\\nPhilosophy A A A A\\nPolitics A, D A, D A, B A\\nMathematics B, C B A, B A, B\\nEnglish A, C A, B A,B A, C', 10: 'Table 27: “table” with columns simulated by using tab stops\\nName Apples Pears\\nBob Scott 20 25\\nSusan. P. Arnold-Jones, BA, FRSA, MD 24 15\\nSam Holder-Dickinson 14 10\\nTable 28: year-end financial table (£, thousands) – headings problem\\nrevisited\\n2010 2009 2008\\nNon-current assets\\nBuildings 345 445 222\\nInvestment 567 654 423\\nIntangibles 423 123 453\\nCurrent assets\\nTrade 435 634 231\\nCash 524 123 482\\nOther 223 211 254\\nCurrent liabilities\\nTrade liabilities 154 125 421\\nFinancial debt 231 474 572\\nProvisions 111 312 347', 11: 'Table 29: multiple headers attributes for each data cell\\nSouth America Asia Africa Australia\\n2010\\nHighest average 523.6 467.4 405.0 340.5\\nHighest in 24 hours 73.1 54.1 27.2 66.3\\nHighest in 12 hours 42.4 30.1 15.9 40.3\\n2009\\nHighest average 487.7 453.6 398.7 356\\nHighest in 24 hours 67.2 53.2 44.3 53.8\\nHighest in 12 hours 34.7 34.1 29.8 31.0\\n2008\\nHighest average 496.7 444.3 502.1 399.6\\nHighest in 24 hours 44.2 56.7 32.1 63.2\\nHighest in 12 hours 30.1 32.7 21.9 40.2'}, 'tables': {1: [{0: ['Expenditure by function £ million', 'Policy functions', '', '', 'Remunerated functions', '', '', ''], 1: ['', 'Financial', 'Information 2', 'Contingency', 'Agency services 3', 'Payments', 'Banking', 'Other'], 2: ['2009/10', '22.5', '10.2', '2.6', '44.7', '22.41', '22.90', '12.69'], 3: ['2010/11\\xa01', '30.57', '14.8', '1.2', '35.91', '19.88', '44.23', '10.32']}, {0: ['Main character  Daniel Radcliffe', 'Sidekick 1', 'Sidekick 2', 'Lovable ogre', '', 'Headmaster'], 1: ['', 'Rupert Grint', 'Emma Watson', 'Robbie Coltrane', 'Professor  Maggie Smith', 'Richard Harris']}, {0: ['Column header (TH)', 'Row header (TH)', 'Row header(TH)'], 1: ['Column header (TH)', 'Data cell (TD)', 'Data cell (TD)'], 2: ['Column header (TH)', 'Data cell (TD)', 'Data cell (TD)']}, {0: ['Expenditure by function £ million', 'Policy functions', None, None, 'Remunerated functions', None, None, None], 1: [None, 'Financial', 'Information 2', 'Contingency', 'Agency services 3', 'Payments', 'Banking', 'Other'], 2: ['2009/10', '22.5', '10.2', '2.6', '44.7', '22.41', '22.90', '12.69'], 3: ['2010/11 1', '30.57', '14.8', '1.2', '35.91', '19.88', '44.23', '10.32']}, {0: ['Main character', 'Sidekick 1', 'Sidekick 2', 'Lovable ogre', 'Professor', 'Headmaster'], 1: ['Daniel Radcliffe', 'Rupert Grint', 'Emma Watson', 'Robbie Coltrane', 'Maggie Smith', 'Richard Harris']}], 2: [{0: ['', 'Main character  Daniel Radcliffe', 'Sidekick 1', 'Sidekick 2', 'Lovable ogre', '', 'Headmaster'], 1: ['Role    Actor', '', 'Rupert Grint', 'Emma Watson', 'Robbie Coltrane', 'Professor  Maggie Smith', 'Richard Harris']}, {0: ['2010 \\n2009 \\n2008', 'Non-current assets', 'Property \\n345 \\n445 \\n222', 'Investment \\n567 \\n654 \\n423', 'Intangibles \\n423 \\n123 \\n453', 'Current assets', 'Trade and other receivables \\n435 \\n634 \\n231', 'Cash and cash equivalents \\n524 \\n123 \\n482', 'Other \\n223 \\n211 \\n254']}, {0: ['Rainfall \\nAmericas \\nAsia \\nEurope \\nAfrica \\n(inches)', '2010', 'Average \\n104 \\n201 \\n193 \\n144', '24 hour high \\n15 \\n26 \\n27 \\n18', '12 hour high \\n9 \\n10 \\n11 \\n12', '2009', 'Average \\n133 \\n244 \\n155 \\n166', '24 hour high \\n27 \\n28 \\n29 \\n20', '12 hour high \\n11 \\n12 \\n13 \\n16']}, {0: ['Role', 'Main character', 'Sidekick 1', 'Sidekick 2', 'Lovable ogre', 'Professor', 'Headmaster'], 1: ['Actor', 'Daniel Radcliffe', 'Rupert Grint', 'Emma Watson', 'Robbie Coltrane', 'Maggie Smith', 'Richard Harris']}, {0: ['', 'Non-current assets', 'Property', 'Investment', 'Intangibles', 'Current assets', 'Trade and other receivables', 'Cash and cash equivalents', 'Other'], 1: ['2010', None, '345', '567', '423', None, '435', '524', '223'], 2: ['2009', None, '445', '654', '123', None, '634', '123', '211'], 3: ['2008', None, '222', '423', '453', None, '231', '482', '254']}, {0: ['Rainfall\\n(inches)', '2010', 'Average', '24 hour high', '12 hour high', '2009', 'Average', '24 hour high', '12 hour high'], 1: ['Americas', None, '104', '15', '9', None, '133', '27', '11'], 2: ['Asia', None, '201', '26', '10', None, '244', '28', '12'], 3: ['Europe', None, '193', '27', '11', None, '155', '29', '13'], 4: ['Africa', None, '144', '18', '12', None, '166', '20', '16']}], 3: [{0: ['Non-current assets', 'Property', 'Investment', 'Intangibles'], 1: ['2010', '345', '567', '423'], 2: ['2009', '445', '654', '123'], 3: ['2008', '222', '423', '453']}, {0: ['Current assets', 'Trade and other receivables', 'Cash and cash equivalents', 'Other'], 1: ['2010', '435', '524', '223'], 2: ['2009', '634', '123', '211'], 3: ['2008', '231', '482', '254']}, {0: ['Rainfall (inches)', 'Average', '24 hour high', '12 hour high'], 1: ['Americas', '133', '27', '11'], 2: ['Asia', '244', '28', '12'], 3: ['Europe', '155', '29', '13'], 4: ['Africa', '166', '20', '16']}, {0: ['Non-current assets', 'Property', 'Investment', 'Intangibles'], 1: ['2010', '345', '567', '423'], 2: ['2009', '445', '654', '123'], 3: ['2008', '222', '423', '453']}, {0: ['Current assets', 'Trade and other receivables', 'Cash and cash equivalents', 'Other'], 1: ['2010', '435', '524', '223'], 2: ['2009', '634', '123', '211'], 3: ['2008', '231', '482', '254']}, {0: ['Rainfall (inches)', 'Average', '24 hour high', '12 hour high'], 1: ['Americas', '133', '27', '11'], 2: ['Asia', '244', '28', '12'], 3: ['Europe', '155', '29', '13'], 4: ['Africa', '166', '20', '16']}], 4: [{0: ['', 'General income', 'Increase in value, WIP', '', 'Administrative costs', 'Staff costs', 'Early departures', 'Other', 'Depreciation', 'Programme costs', 'Impairment loss', 'Other', '', 'Surplus'], 1: ['2011', '250,000', '15,000', '265,000', '', '(200,000)', '(10,000)', '(25,000)', '(10,000)', '', '(10,000)', '(5,000)', '(260,000)', ''], 2: ['', '', '', '', '', '', '', '', '', '', '', '', '', '5,000'], 3: ['2010 restated', '200,000', '30,000', '230,000', '', '(150,000)', '(20,000)', '(10,000)', '(10,000)', '', '(5,000)', '(5,000)', '(200,000)', ''], 4: ['', '', '', '', '', '', '', '', '', '', '', '', '', '30,000']}, {0: ['', 'Income', '', '', 'Administrative costs', '', '', '', 'Programme costs', '', '', 'Surplus'], 1: ['', 'General income', 'Increase in value', 'Total income', 'Staff costs', 'Early departures', 'Other operating costs', 'Depreciation', 'Impairment loss', 'Other', 'Total costs', ''], 2: ['2011', '250,000', '15,000', '265,000', '(200,000)', '(10,000)', '(25,000)', '(10,000)', '(10,000)', '(5,000)', '(260,000)', '5,000'], 3: ['2010 restated', '200,000', '30,000', '230,000', '(150,000)', '(20,000)', '(10,000)', '(10,000)', '(5,000)', '(5,000)', '(200,000)', '30,000']}, {0: ['', 'General income', 'Increase in value, WIP', '', 'Administrative costs', 'Staff costs', 'Early departures', 'Other', 'Depreciation', 'Progr amme costs', 'Impairment loss', 'Other', '', 'Surplus'], 1: ['2011', '', '', '', None, '(200,000)', '(10,000)', '(25,000)', '(10,000)', None, '(10,000)', '(5,000)', '(260,000)', ''], 2: [None, '250,000', '15,000', '265,000', None, '', '', '', '', None, '', '', '', '5,000'], 3: ['2010 restated', '', '', '', None, '(150,000)', '(20,000)', '(10,000)', '(10,000)', None, '(5,000)', '(5,000)', '(200,000)', ''], 4: [None, '200,000', '30,000', '230,000', None, '', '', '', '', None, '', '', '', '30,000']}, {0: ['', 'Income', None, None, 'Administrative costs', None, None, None, 'Programme costs', None, None, 'Surplus'], 1: [None, 'General income', 'Increase in value', 'Total income', 'Staff costs', 'Early departures', 'Other operating costs', 'Depreciation', 'Impairment loss', 'Other', 'Total costs', None], 2: ['2011', '250,000', '15,000', '265,000', '(200,000)', '(10,000)', '(25,000)', '(10,000)', '(10,000)', '(5,000)', '(260,000)', '5,000'], 3: ['2010 restated', '200,000', '30,000', '230,000', '(150,000)', '(20,000)', '(10,000)', '(10,000)', '(5,000)', '(5,000)', '(200,000)', '30,000']}], 5: [{0: ['', 'Name', 'Bob', 'Sue', 'Sam'], 1: ['2008', 'Yes \\nNo', '2 \\n5', '3 \\n8', '[data relating to both columns in \\na single cell spanning both]'], 2: ['2009', 'Yes \\nNo', '6 \\n7', '4 \\n7', '[data relating to both columns in \\na single cell spanning both]']}, {0: ['Question', 'Are you a UK citizen?', 'Are you currently employed?', 'Do you have a driving licence?'], 1: ['Respondent A', '\\uf0fd', '\\uf0fc', '\\uf0fd'], 2: ['Respondent B', '\\uf0fc', '\\uf0fd', '\\uf0fd'], 3: ['Respondent C', '\\uf0fd', '\\uf0fc', '\\uf0fc']}, {0: ['Question', 'Are you a UK citizen?', 'Are you currently employed?', 'Do you have a driving licence?'], 1: ['Respondent A', 'No', 'Yes', 'No'], 2: ['Respondent B', 'Yes', 'No', 'No'], 3: ['Respondent C', 'No', 'Yes', 'Yes']}, {0: ['', 'Economics', 'International relations', 'Philosophy', 'Politics', 'Mathematics', 'English'], 1: ['2006', 'A, B', 'A, E', 'A', 'A, D', 'B, C', 'A, C'], 2: ['2007', 'A, C', 'A, E', 'A', 'A, D', 'B', 'A, B'], 3: ['2008', 'A, B', 'A, B', 'A', 'A, D', 'A, E', 'A,B'], 4: ['2009', 'A, C', 'A, E', 'A, D', 'A', 'A, B', 'C']}, {0: ['', 'Name', 'Bob', 'Sue', 'Sam'], 1: ['2008', 'Yes', '2', '3', '[data relating to both columns in\\na single cell spanning both]'], 2: [None, 'No', '5', '8', None], 3: ['2009', 'Yes', '6', '4', '[data relating to both columns in\\na single cell spanning both]'], 4: [None, 'No', '7', '7', None]}, {0: ['Question', 'Are you a UK citizen?', 'Are you currently employed?', 'Do you have a driving licence?'], 1: ['Respondent A', '\\uf0fd', '\\uf0fc', '\\uf0fd'], 2: ['Respondent B', '\\uf0fc', '\\uf0fd', '\\uf0fd'], 3: ['Respondent C', '\\uf0fd', '\\uf0fc', '\\uf0fc']}, {0: ['Question', 'Are you a UK citizen?', 'Are you currently employed?', 'Do you have a driving licence?'], 1: ['Respondent A', 'No', 'Yes', 'No'], 2: ['Respondent B', 'Yes', 'No', 'No'], 3: ['Respondent C', 'No', 'Yes', 'Yes']}, {0: ['', 'Economics', 'International relations', 'Philosophy', 'Politics', 'Mathematics', 'English'], 1: ['2006', 'A, B', 'A, E', 'A', 'A, D', 'B, C', 'A, C'], 2: ['2007', 'A, C', 'A, E', 'A', 'A, D', 'B', 'A, B'], 3: ['2008', 'A, B', 'A, B', 'A', 'A, D', 'A, E', 'A,B'], 4: ['2009', 'A, C', 'A, E', 'A, D', 'A', 'A, B', 'C']}], 6: [{0: ['', 'Economics', 'International relations', 'Philosophy', 'Politics', 'Mathematics', 'English'], 1: ['2006', 'No', 'No', 'No', 'No', 'Yes', 'Yes'], 2: ['2007', 'Yes', 'No', 'No', 'No', 'No', 'Yes'], 3: ['2008', 'Yes', 'No', 'No', 'No', 'No', 'Yes'], 4: ['2009', 'Yes', 'No', 'No', 'No', 'No', 'Yes']}, {0: ['Accounting item', '', '', '', 'Administrative costs', '', '', '', 'Programme costs', '', 'Balance'], 1: ['', 'Income  General income', 'Increase in value, WIP', 'Income subtotal', 'Staff', 'Early departures', 'Other operating costs', 'Depreciation', 'Impairment loss', 'Costs subtotal', ''], 2: ['2011', '200,000', '30,000', '230,000', '150,000', '20,000', '10,000', '10,000', '10,000', '200,000', '30,000']}, {0: ['Accounting item', '', '', '', 'Administrative costs', '', '', '', 'Programme costs', '', 'Balance'], 1: ['', 'Income  General income', 'Increase in value, WIP', 'Income subtotal', 'Staff', 'Early departures', 'Other operating costs', 'Depreciation', 'Impairment loss', 'Costs subtotal', ''], 2: ['2011', '200,000', '30,000', '230,000', '(150,000)', '(20,000)', '(10,000)', '(10,000)', '(10,000)', '(200,000)', '30,000']}, {0: ['', 'Economics', 'International relations', 'Philosophy', 'Politics', 'Mathematics', 'English'], 1: ['2006', 'No', 'No', 'No', 'No', 'Yes', 'Yes'], 2: ['2007', 'Yes', 'No', 'No', 'No', 'No', 'Yes'], 3: ['2008', 'Yes', 'No', 'No', 'No', 'No', 'Yes'], 4: ['2009', 'Yes', 'No', 'No', 'No', 'No', 'Yes']}, {0: ['Accounting item', 'Income', None, None, 'Administrative costs', None, None, None, 'Programme costs', None, 'Balance'], 1: [None, 'General income', 'Increase in value, WIP', 'Income subtotal', 'Staff', 'Early departures', 'Other operating costs', 'Depreciation', 'Impairment loss', 'Costs subtotal', None], 2: ['2011', '200,000', '30,000', '230,000', '150,000', '20,000', '10,000', '10,000', '10,000', '200,000', '30,000']}, {0: ['Accounting item', 'Income', None, None, 'Administrative costs', None, None, None, 'Programme costs', None, 'Balance'], 1: [None, 'General income', 'Increase in value, WIP', 'Income subtotal', 'Staff', 'Early departures', 'Other operating costs', 'Depreciation', 'Impairment loss', 'Costs subtotal', None], 2: ['2011', '200,000', '30,000', '230,000', '(150,000)', '(20,000)', '(10,000)', '(10,000)', '(10,000)', '(200,000)', '30,000']}], 7: [{0: ['Country', 'Afghanistan', 'Albania', 'Algeria', 'Andorra', 'Angola'], 1: ['1980', '0.78', '8.89', '4.74', '4.98', '-'], 2: ['1990', '1.48', '9.67', '3.33', '5.63', '-'], 3: ['2000', '2.16', '9.89', '5.50', '9.09', '4.42'], 4: ['2010', '3.33', '10.38', '7.24', '10.35', '4.42']}, {0: ['Expenditure by function £million', 'Policy functions', '', '', 'Remunerated functions', '', '', ''], 1: ['', 'Financial', '2 \\nInformation', 'Contingency', 'Agency services 3', 'Payments', 'Banking', 'Other'], 2: ['2009/10', '22.5', '10.2', '2.6', '44.7', '22.41', '22.90', '12.69'], 3: ['1 \\n2010/11', '30.57', '14.8', '1.2', '35.91', '19.88', '44.23', '10.32']}, {0: ['Country', 'Afghanistan', 'Albania', 'Algeria', 'Andorra', 'Angola'], 1: ['1980', '0.78', '8.89', '4.74', '4.98', '-'], 2: ['1990', '1.48', '9.67', '3.33', '5.63', '-'], 3: ['2000', '2.16', '9.89', '5.50', '9.09', '4.42'], 4: ['2010', '3.33', '10.38', '7.24', '10.35', '4.42']}, {0: ['Expenditure by function £million', 'Policy functions', None, None, 'Remunerated functions', None, None, None], 1: [None, 'Financial', 'Information2', 'Contingency', 'Agency services 3', 'Payments', 'Banking', 'Other'], 2: ['2009/10', '22.5', '10.2', '2.6', '44.7', '22.41', '22.90', '12.69'], 3: ['2010/111', '30.57', '14.8', '1.2', '35.91', '19.88', '44.23', '10.32']}], 8: [{0: ['Expenditure by function £million', 'Policy functions', '', '', 'Remunerated functions', '', '', ''], 1: ['', 'Financial', 'Information', 'Contingency', 'Agency services', 'Payments', 'Banking', 'Other'], 2: ['2009/10', '22.5', '10.2', '2.6', '44.7', '22.41', '22.90', '12.69'], 3: ['2010/11', '30.57', '14.8', '1.2', '35.91', '19.88', '44.23', '10.32']}, {0: ['Expenditure £m', 'Information', 'Contingency', 'Payments', 'Banking services', 'Interest', 'Dividends', 'Other'], 1: ['Notes  \\n(Notes located on  page [n])', '1', '', '3', '4', '', '23', '9'], 2: ['2010', '10.2', '2.6', '22.41', '22.90', '0.23', '2.5', '12.69'], 3: ['2011', '14.8', '1.2', '19.88', '44.23', '0.10', '3.68', '10.32']}, {0: ['', 'Name', 'Bob', 'Sue'], 1: ['2008', 'Entered', '22', '44'], 2: ['', 'Completed', '21', '12'], 3: ['2009', 'Entered', '20', '12'], 4: ['', 'Completed', '19', '10']}, {0: ['Expenditure by function £million', 'Policy functions', None, None, 'Remunerated functions', None, None, None], 1: [None, 'Financial', 'Information', 'Contingency', 'Agency services', 'Payments', 'Banking', 'Other'], 2: ['2009/10', '22.5', '10.2', '2.6', '44.7', '22.41', '22.90', '12.69'], 3: ['2010/11', '30.57', '14.8', '1.2', '35.91', '19.88', '44.23', '10.32']}, {0: ['Expenditure £m', 'Information', 'Contingency', 'Payments', 'Banking services', 'Interest', 'Dividends', 'Other'], 1: ['Notes\\n(Notes located on page [n])', '1', '', '3', '4', '', '23', '9'], 2: ['2010', '10.2', '2.6', '22.41', '22.90', '0.23', '2.5', '12.69'], 3: ['2011', '14.8', '1.2', '19.88', '44.23', '0.10', '3.68', '10.32']}, {0: ['', 'Name', 'Bob', 'Sue'], 1: ['2008', 'Entered', '22', '44'], 2: [None, 'Completed', '21', '12'], 3: ['2009', 'Entered', '20', '12'], 4: [None, 'Completed', '19', '10']}], 9: [{0: ['2010 \\n2009 \\n2008', 'Non-current assets', 'Buildings \\n345 \\n445 \\n222', 'Investment \\n567 \\n654 \\n423', 'Intangibles \\n423 \\n123 \\n453', 'Current assets', 'Trade \\n435 \\n634 \\n231', 'Cash \\n524 \\n123 \\n482', 'Other \\n223 \\n211 \\n254', 'Current liabilities', 'Trade liabilities \\n154 \\n125 \\n421', 'Financial debt \\n231 \\n474 \\n572', 'Provisions \\n111 \\n312 \\n347']}, {0: ['', 'Name', 'Bob', 'Sue', 'Sam'], 1: ['2008', 'Entered', '22', '44', '16'], 2: ['', 'Won', '21', '12', '4'], 3: ['2009', 'Entered', '20', '12', '45'], 4: ['', 'Won', '19', '10', '30']}, {0: ['', 'Economics', 'International relations', 'Philosophy', 'Politics', 'Mathematics', 'English'], 1: ['2006', 'A, B', 'A, E', 'A', 'A, D', 'B, C', 'A, C'], 2: ['2007', 'A, C', 'A, E', 'A', 'A, D', 'B', 'A, B'], 3: ['2008', 'A, C', 'A, B', 'A', 'A, B', 'A, B', 'A,B'], 4: ['2009', 'A, C', 'A, B', 'A', 'A', 'A, B', 'A, C']}, {0: ['', 'Non-current assets', 'Buildings', 'Investment', 'Intangibles', 'Current assets', 'Trade', 'Cash', 'Other', 'Current liabilities', 'Trade liabilities', 'Financial debt', 'Provisions'], 1: ['2010', None, '345', '567', '423', None, '435', '524', '223', None, '154', '231', '111'], 2: ['2009', None, '445', '654', '123', None, '634', '123', '211', None, '125', '474', '312'], 3: ['2008', None, '222', '423', '453', None, '231', '482', '254', None, '421', '572', '347']}, {0: ['', 'Name', 'Bob', 'Sue', 'Sam'], 1: ['2008', 'Entered', '22', '44', '16'], 2: [None, 'Won', '21', '12', '4'], 3: ['2009', 'Entered', '20', '12', '45'], 4: [None, 'Won', '19', '10', '30']}, {0: ['', 'Economics', 'International relations', 'Philosophy', 'Politics', 'Mathematics', 'English'], 1: ['2006', 'A, B', 'A, E', 'A', 'A, D', 'B, C', 'A, C'], 2: ['2007', 'A, C', 'A, E', 'A', 'A, D', 'B', 'A, B'], 3: ['2008', 'A, C', 'A, B', 'A', 'A, B', 'A, B', 'A,B'], 4: ['2009', 'A, C', 'A, B', 'A', 'A', 'A, B', 'A, C']}], 10: [{0: ['Name', 'Bob Scott', 'Susan. P. Arnold-Jones, BA, FRSA, MD', 'Sam Holder-Dickinson'], 1: ['Apples', '20', '24', '14'], 2: ['Pears', '25', '15', '10']}, {0: ['2010 \\n2009 \\n2008', 'Non-current assets', 'Buildings \\n345 \\n445 \\n222', 'Investment \\n567 \\n654 \\n423', 'Intangibles \\n423 \\n123 \\n453', 'Current assets', 'Trade \\n435 \\n634 \\n231', 'Cash \\n524 \\n123 \\n482', 'Other \\n223 \\n211 \\n254', 'Current liabilities', 'Trade liabilities \\n154 \\n125 \\n421', 'Financial debt \\n231 \\n474 \\n572', 'Provisions \\n111 \\n312 \\n347']}, {0: ['Name', 'Bob Scott', 'Susan. P. Arnold-Jones, BA, FRSA, MD', 'Sam Holder-Dickinson'], 1: ['Apples', '20', '24', '14'], 2: ['Pears', '25', '15', '10']}, {0: ['', 'Non-current assets', 'Buildings', 'Investment', 'Intangibles', 'Current assets', 'Trade', 'Cash', 'Other', 'Current liabilities', 'Trade liabilities', 'Financial debt', 'Provisions'], 1: ['2010', None, '345', '567', '423', None, '435', '524', '223', None, '154', '231', '111'], 2: ['2009', None, '445', '654', '123', None, '634', '123', '211', None, '125', '474', '312'], 3: ['2008', None, '222', '423', '453', None, '231', '482', '254', None, '421', '572', '347']}], 11: [{0: ['South America \\nAsia \\nAfrica \\nAustralia', '2010', 'Highest average \\n523.6 \\n467.4 \\n405.0 \\n340.5', 'Highest in 24 hours \\n73.1 \\n54.1 \\n27.2 \\n66.3', 'Highest in 12 hours \\n42.4 \\n30.1 \\n15.9 \\n40.3', '2009', 'Highest average \\n487.7 \\n453.6 \\n398.7 \\n356', 'Highest in 24 hours \\n67.2 \\n53.2 \\n44.3 \\n53.8', 'Highest in 12 hours \\n34.7 \\n34.1 \\n29.8 \\n31.0', '2008', 'Highest average \\n496.7 \\n444.3 \\n502.1 \\n399.6', 'Highest in 24 hours \\n44.2 \\n56.7 \\n32.1 \\n63.2', 'Highest in 12 hours \\n30.1 \\n32.7 \\n21.9 \\n40.2']}, {0: ['', '2010', 'Highest average', 'Highest in 24 hours', 'Highest in 12 hours', '2009', 'Highest average', 'Highest in 24 hours', 'Highest in 12 hours', '2008', 'Highest average', 'Highest in 24 hours', 'Highest in 12 hours'], 1: ['South America', None, '523.6', '73.1', '42.4', None, '487.7', '67.2', '34.7', None, '496.7', '44.2', '30.1'], 2: ['Asia', None, '467.4', '54.1', '30.1', None, '453.6', '53.2', '34.1', None, '444.3', '56.7', '32.7'], 3: ['Africa', None, '405.0', '27.2', '15.9', None, '398.7', '44.3', '29.8', None, '502.1', '32.1', '21.9'], 4: ['Australia', None, '340.5', '66.3', '40.3', None, '356', '53.8', '31.0', None, '399.6', '63.2', '40.2']}]}, 'images': []}\n"
          ]
        }
      ]
    },
    {
      "cell_type": "code",
      "source": [
        "import json\n",
        "\n",
        "result = pipeline.pipeline(\"sample-tables.pdf\")\n",
        "\n",
        "# Save as JSON\n",
        "with open(\"output.json\", \"w\", encoding=\"utf-8\") as f:\n",
        "    json.dump(result, f, indent=2)\n",
        "\n",
        "print(\"✅ Extraction saved to output.json\")\n"
      ],
      "metadata": {
        "id": "66vM7O1IQ5ib",
        "outputId": "db25e26f-4059-434d-f61e-4894383a8902",
        "colab": {
          "base_uri": "https://localhost:8080/"
        }
      },
      "execution_count": 43,
      "outputs": [
        {
          "output_type": "stream",
          "name": "stdout",
          "text": [
            "✅ Extraction saved to output.json\n"
          ]
        }
      ]
    },
    {
      "cell_type": "code",
      "source": [
        "from google.colab import files\n",
        "files.download(\"output.json\")\n"
      ],
      "metadata": {
        "id": "IZX1QlNJRH2u",
        "outputId": "8a1ed7ab-d5c4-4a00-f3b6-3285d47ac839",
        "colab": {
          "base_uri": "https://localhost:8080/",
          "height": 17
        }
      },
      "execution_count": 44,
      "outputs": [
        {
          "output_type": "display_data",
          "data": {
            "text/plain": [
              "<IPython.core.display.Javascript object>"
            ],
            "application/javascript": [
              "\n",
              "    async function download(id, filename, size) {\n",
              "      if (!google.colab.kernel.accessAllowed) {\n",
              "        return;\n",
              "      }\n",
              "      const div = document.createElement('div');\n",
              "      const label = document.createElement('label');\n",
              "      label.textContent = `Downloading \"${filename}\": `;\n",
              "      div.appendChild(label);\n",
              "      const progress = document.createElement('progress');\n",
              "      progress.max = size;\n",
              "      div.appendChild(progress);\n",
              "      document.body.appendChild(div);\n",
              "\n",
              "      const buffers = [];\n",
              "      let downloaded = 0;\n",
              "\n",
              "      const channel = await google.colab.kernel.comms.open(id);\n",
              "      // Send a message to notify the kernel that we're ready.\n",
              "      channel.send({})\n",
              "\n",
              "      for await (const message of channel.messages) {\n",
              "        // Send a message to notify the kernel that we're ready.\n",
              "        channel.send({})\n",
              "        if (message.buffers) {\n",
              "          for (const buffer of message.buffers) {\n",
              "            buffers.push(buffer);\n",
              "            downloaded += buffer.byteLength;\n",
              "            progress.value = downloaded;\n",
              "          }\n",
              "        }\n",
              "      }\n",
              "      const blob = new Blob(buffers, {type: 'application/binary'});\n",
              "      const a = document.createElement('a');\n",
              "      a.href = window.URL.createObjectURL(blob);\n",
              "      a.download = filename;\n",
              "      div.appendChild(a);\n",
              "      a.click();\n",
              "      div.remove();\n",
              "    }\n",
              "  "
            ]
          },
          "metadata": {}
        },
        {
          "output_type": "display_data",
          "data": {
            "text/plain": [
              "<IPython.core.display.Javascript object>"
            ],
            "application/javascript": [
              "download(\"download_6ff4d02c-76d6-45a4-8318-7bf4ab158b46\", \"output.json\", 48559)"
            ]
          },
          "metadata": {}
        }
      ]
    },
    {
      "cell_type": "code",
      "source": [
        "import json\n",
        "\n",
        "result = pipeline.pipeline(\"sample-tables.pdf\")\n",
        "\n",
        "with open(\"output.json\", \"w\", encoding=\"utf-8\") as f:\n",
        "    json.dump(result, f, indent=2)\n",
        "\n",
        "print(\"✅ Results saved to output.json\")\n"
      ],
      "metadata": {
        "id": "fNcmzpJOXpB6",
        "outputId": "24aedda0-dbd7-4a0b-e333-e898229bc7ca",
        "colab": {
          "base_uri": "https://localhost:8080/"
        }
      },
      "execution_count": 45,
      "outputs": [
        {
          "output_type": "stream",
          "name": "stdout",
          "text": [
            "✅ Results saved to output.json\n"
          ]
        }
      ]
    },
    {
      "cell_type": "code",
      "source": [
        "import pandas as pd\n",
        "\n",
        "# assuming result[\"tables\"] is a dict {page_num: [tables]}\n",
        "for page, tables in result[\"tables\"].items():\n",
        "    for i, table in enumerate(tables):\n",
        "        df = pd.DataFrame(table)   # convert to DataFrame\n",
        "        filename = f\"table_page{page}_{i}.csv\"\n",
        "        df.to_csv(filename, index=False)\n",
        "        print(f\"Saved {filename}\")\n"
      ],
      "metadata": {
        "id": "wawXts4GXz9g",
        "outputId": "75038ffe-b6f0-4bbc-be31-0a3b000f90fa",
        "colab": {
          "base_uri": "https://localhost:8080/"
        }
      },
      "execution_count": 46,
      "outputs": [
        {
          "output_type": "stream",
          "name": "stdout",
          "text": [
            "Saved table_page1_0.csv\n",
            "Saved table_page1_1.csv\n",
            "Saved table_page1_2.csv\n",
            "Saved table_page1_3.csv\n",
            "Saved table_page1_4.csv\n",
            "Saved table_page2_0.csv\n",
            "Saved table_page2_1.csv\n",
            "Saved table_page2_2.csv\n",
            "Saved table_page2_3.csv\n",
            "Saved table_page2_4.csv\n",
            "Saved table_page2_5.csv\n",
            "Saved table_page3_0.csv\n",
            "Saved table_page3_1.csv\n",
            "Saved table_page3_2.csv\n",
            "Saved table_page3_3.csv\n",
            "Saved table_page3_4.csv\n",
            "Saved table_page3_5.csv\n",
            "Saved table_page4_0.csv\n",
            "Saved table_page4_1.csv\n",
            "Saved table_page4_2.csv\n",
            "Saved table_page4_3.csv\n",
            "Saved table_page5_0.csv\n",
            "Saved table_page5_1.csv\n",
            "Saved table_page5_2.csv\n",
            "Saved table_page5_3.csv\n",
            "Saved table_page5_4.csv\n",
            "Saved table_page5_5.csv\n",
            "Saved table_page5_6.csv\n",
            "Saved table_page5_7.csv\n",
            "Saved table_page6_0.csv\n",
            "Saved table_page6_1.csv\n",
            "Saved table_page6_2.csv\n",
            "Saved table_page6_3.csv\n",
            "Saved table_page6_4.csv\n",
            "Saved table_page6_5.csv\n",
            "Saved table_page7_0.csv\n",
            "Saved table_page7_1.csv\n",
            "Saved table_page7_2.csv\n",
            "Saved table_page7_3.csv\n",
            "Saved table_page8_0.csv\n",
            "Saved table_page8_1.csv\n",
            "Saved table_page8_2.csv\n",
            "Saved table_page8_3.csv\n",
            "Saved table_page8_4.csv\n",
            "Saved table_page8_5.csv\n",
            "Saved table_page9_0.csv\n",
            "Saved table_page9_1.csv\n",
            "Saved table_page9_2.csv\n",
            "Saved table_page9_3.csv\n",
            "Saved table_page9_4.csv\n",
            "Saved table_page9_5.csv\n",
            "Saved table_page10_0.csv\n",
            "Saved table_page10_1.csv\n",
            "Saved table_page10_2.csv\n",
            "Saved table_page10_3.csv\n",
            "Saved table_page11_0.csv\n",
            "Saved table_page11_1.csv\n"
          ]
        }
      ]
    },
    {
      "cell_type": "code",
      "source": [
        "from PIL import Image\n",
        "\n",
        "for i, img in enumerate(result[\"images\"]):\n",
        "    filename = f\"image_{i}.png\"\n",
        "    img.save(filename)\n",
        "    print(f\"Saved {filename}\")\n"
      ],
      "metadata": {
        "id": "vYk8U58fX5M_"
      },
      "execution_count": 47,
      "outputs": []
    },
    {
      "cell_type": "code",
      "source": [
        "from google.colab import files\n",
        "files.download(\"output.json\")  # download JSON\n"
      ],
      "metadata": {
        "id": "KkL8K_trX-oh",
        "outputId": "7c8096ce-6355-403a-ce9d-450aceca75fb",
        "colab": {
          "base_uri": "https://localhost:8080/",
          "height": 17
        }
      },
      "execution_count": 48,
      "outputs": [
        {
          "output_type": "display_data",
          "data": {
            "text/plain": [
              "<IPython.core.display.Javascript object>"
            ],
            "application/javascript": [
              "\n",
              "    async function download(id, filename, size) {\n",
              "      if (!google.colab.kernel.accessAllowed) {\n",
              "        return;\n",
              "      }\n",
              "      const div = document.createElement('div');\n",
              "      const label = document.createElement('label');\n",
              "      label.textContent = `Downloading \"${filename}\": `;\n",
              "      div.appendChild(label);\n",
              "      const progress = document.createElement('progress');\n",
              "      progress.max = size;\n",
              "      div.appendChild(progress);\n",
              "      document.body.appendChild(div);\n",
              "\n",
              "      const buffers = [];\n",
              "      let downloaded = 0;\n",
              "\n",
              "      const channel = await google.colab.kernel.comms.open(id);\n",
              "      // Send a message to notify the kernel that we're ready.\n",
              "      channel.send({})\n",
              "\n",
              "      for await (const message of channel.messages) {\n",
              "        // Send a message to notify the kernel that we're ready.\n",
              "        channel.send({})\n",
              "        if (message.buffers) {\n",
              "          for (const buffer of message.buffers) {\n",
              "            buffers.push(buffer);\n",
              "            downloaded += buffer.byteLength;\n",
              "            progress.value = downloaded;\n",
              "          }\n",
              "        }\n",
              "      }\n",
              "      const blob = new Blob(buffers, {type: 'application/binary'});\n",
              "      const a = document.createElement('a');\n",
              "      a.href = window.URL.createObjectURL(blob);\n",
              "      a.download = filename;\n",
              "      div.appendChild(a);\n",
              "      a.click();\n",
              "      div.remove();\n",
              "    }\n",
              "  "
            ]
          },
          "metadata": {}
        },
        {
          "output_type": "display_data",
          "data": {
            "text/plain": [
              "<IPython.core.display.Javascript object>"
            ],
            "application/javascript": [
              "download(\"download_5d49e1fc-4a12-4a08-bb38-da4fa1d1135c\", \"output.json\", 48559)"
            ]
          },
          "metadata": {}
        }
      ]
    },
    {
      "cell_type": "code",
      "source": [
        "\n"
      ],
      "metadata": {
        "id": "YPh3N7iBYE_v"
      },
      "execution_count": null,
      "outputs": []
    }
  ],
  "metadata": {
    "colab": {
      "name": "colab_starter",
      "provenance": []
    },
    "kernelspec": {
      "display_name": "Python 3",
      "name": "python3"
    }
  },
  "nbformat": 4,
  "nbformat_minor": 0
}