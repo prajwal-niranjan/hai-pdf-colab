{
 "cells": [
  {
   "cell_type": "markdown",
   "metadata": {},
   "source": [
    "# PDF Extraction Starter Notebook\n",
    "\n",
    "This notebook demonstrates a minimal pipeline using `pipeline.py`."
   ]
  },
  {
   "cell_type": "code",
   "execution_count": null,
   "metadata": {},
   "outputs": [],
   "source": [
    "!pip install -r requirements.txt"
   ]
  },
  {
   "cell_type": "code",
   "execution_count": null,
   "metadata": {},
   "outputs": [],
   "source": [
    "from src.python import pipeline\n",
    "print(pipeline.hello())"
   ]
  }
 ],
 "metadata": {
  "colab": {
   "name": "colab_starter"
  },
  "kernelspec": {
   "display_name": "Python 3",
   "name": "python3"
  }
 },
 "nbformat": 4,
 "nbformat_minor": 0
}
